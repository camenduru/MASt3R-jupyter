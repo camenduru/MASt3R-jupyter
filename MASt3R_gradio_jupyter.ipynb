{
  "cells": [
    {
      "cell_type": "markdown",
      "metadata": {
        "id": "view-in-github"
      },
      "source": [
        "[![Open In Colab](https://colab.research.google.com/assets/colab-badge.svg)](https://colab.research.google.com/github/camenduru/MASt3R-jupyter/blob/main/MASt3R_gradio_jupyter.ipynb)"
      ]
    },
    {
      "cell_type": "code",
      "execution_count": null,
      "metadata": {
        "id": "VjYy0F2gZIPR"
      },
      "outputs": [],
      "source": [
        "%cd /content\n",
        "!git clone -b dev --recursive https://github.com/camenduru/mast3r\n",
        "%cd /content/mast3r\n",
        "\n",
        "%cd dust3r/croco/models/curope\n",
        "!python setup.py build_ext --inplace\n",
        "\n",
        "!mkdir -p /content/mast3r/checkpoints\n",
        "!wget https://huggingface.co/camenduru/mast3r/resolve/main/MASt3R_ViTLarge_BaseDecoder_512_catmlpdpt_metric.pth -O /content/mast3r/checkpoints/MASt3R_ViTLarge_BaseDecoder_512_catmlpdpt_metric.pth\n",
        "\n",
        "!pip install roma einops trimesh gradio\n",
        "!pip install /content/mast3r/dust3r/croco/models/curope\n",
        "\n",
        "%cd /content/mast3r\n",
        "!python demo.py --share --weights /content/mast3r/checkpoints/MASt3R_ViTLarge_BaseDecoder_512_catmlpdpt_metric.pth"
      ]
    }
  ],
  "metadata": {
    "accelerator": "GPU",
    "colab": {
      "gpuType": "T4",
      "provenance": []
    },
    "kernelspec": {
      "display_name": "Python 3",
      "name": "python3"
    },
    "language_info": {
      "name": "python"
    }
  },
  "nbformat": 4,
  "nbformat_minor": 0
}
